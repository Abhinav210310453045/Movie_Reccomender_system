{
 "cells": [
  {
   "cell_type": "markdown",
   "metadata": {},
   "source": [
    "IMPORTS"
   ]
  },
  {
   "cell_type": "code",
   "execution_count": 2,
   "metadata": {},
   "outputs": [],
   "source": [
    "import numpy as np\n",
    "import pandas as pd \n",
    "import matplotlib.pyplot as plt \n",
    "import json\n",
    "from json.decoder import JSONDecodeError\n",
    "from sklearn.feature_extraction.text import TfidfVectorizer\n",
    "from sklearn.metrics.pairwise import cosine_similarity\n"
   ]
  },
  {
   "cell_type": "markdown",
   "metadata": {},
   "source": [
    "FUNCTIONS"
   ]
  },
  {
   "cell_type": "code",
   "execution_count": 3,
   "metadata": {},
   "outputs": [],
   "source": [
    "def merge_columns_to_one(df):\n",
    "    df['information'] = df.drop(\"title\",axis=1).apply(lambda row: ' '.join(map(str, row)), axis=1) \n",
    "\n",
    "def keywords_to_string(df):\n",
    "    for i in range(df.shape[0]):\n",
    "        try:\n",
    "            keyword_str=df[\"keywords\"][i]\n",
    "            dict_list=json.loads(keyword_str)\n",
    "            keywords_string=\" \".join([dictionary[\"name\"] for dictionary in dict_list]  )\n",
    "            df.at[i,\"keywords\"]=keywords_string\n",
    "        except JSONDecodeError as e:\n",
    "            print(f\"Error decoding JSON in row {i}: {e}\")\n",
    "    \n",
    "def countries_to_string(df):\n",
    "    for i in range(df.shape[0]):\n",
    "        try:\n",
    "            country_str=df[\"production_countries\"][i]\n",
    "            dict_list=json.loads(country_str)\n",
    "            country_name=\" \".join([dictionary[\"name\"] for dictionary in dict_list])\n",
    "            df.at[i,\"production_countries\"]=country_name\n",
    "        except JSONDecodeError as e:\n",
    "            print(f\"Error decoding JSON in row {i} : {e}\")\n",
    "\n",
    "\n",
    "def genres_to_string(df):\n",
    "    for i in range(df.shape[0]):\n",
    "        try:\n",
    "            genres_str = df[\"genres\"][i]\n",
    "            dict_list = json.loads(genres_str)\n",
    "            genre_string = \" \".join([dictionary[\"name\"] for dictionary in dict_list])\n",
    "            df.at[i, \"genres\"] = genre_string\n",
    "        except JSONDecodeError as e:\n",
    "            print(f\"Error decoding JSON in row {i}: {e}\")\n",
    "\n",
    "def company_to_string(df):\n",
    "    for i in range(df.shape[0]):\n",
    "        try:\n",
    "            genres_str = df[\"production_companies\"][i]\n",
    "            dict_list = json.loads(genres_str)\n",
    "            genre_string = \" \".join([dictionary[\"name\"] for dictionary in dict_list])\n",
    "            df.at[i, \"production_companies\"] = genre_string\n",
    "        except JSONDecodeError as e:\n",
    "            print(f\"Error decoding JSON in row {i}: {e}\")\n",
    "def spoken_languages(df):\n",
    "    for i in range(df.shape[0]):\n",
    "        try:\n",
    "            genres_str = df[\"spoken_languages\"][i]\n",
    "            dict_list = json.loads(genres_str)\n",
    "            genre_string = \" \".join([dictionary[\"name\"] for dictionary in dict_list])\n",
    "            df.at[i, \"spoken_languages\"] = genre_string\n",
    "        except JSONDecodeError as e:\n",
    "            print(f\"Error decoding JSON in row {i}: {e}\")\n",
    "\n",
    "def preprocess(df):\n",
    "    countries_to_string(df)\n",
    "    company_to_string(df)\n",
    "    spoken_languages(df)\n",
    "    genres_to_string(df)\n",
    "    keywords_to_string(df)\n",
    "    merge_columns_to_one(df)\n",
    "    df.drop(df.columns.difference([\"title\",\"information\"]),axis=1,inplace=True)\n",
    "\n",
    "def recommend_movie(input):\n",
    "    try:\n",
    "        index=df.index[df[\"title\"]==input].tolist()[0]\n",
    "        tf_idf_vector_input=vector_map[index][1]\n",
    "        cosine_sim_matrix=[(index,i,cosine_similarity(tf_idf_vector_input.reshape(1,-1),vector_map[i][1].reshape(1,-1))) for i in range(len(tf_idf_vector))]\n",
    "        global scores\n",
    "        scores=[]\n",
    "        for __,_,cosine_sim in cosine_sim_matrix:\n",
    "            scores.append(cosine_sim)\n",
    "        top_5_movie_index=sorted(cosine_sim_matrix,key=lambda x: x[2],reverse=True)[1:6]\n",
    "        for _,i,__ in top_5_movie_index:\n",
    "            print(df[\"title\"][i])\n",
    "    except IndexError:\n",
    "        print(f\"No movie found with the title: {input} in the database\")    "
   ]
  },
  {
   "cell_type": "markdown",
   "metadata": {},
   "source": [
    "Data Preprocessing"
   ]
  },
  {
   "cell_type": "code",
   "execution_count": 4,
   "metadata": {},
   "outputs": [],
   "source": [
    "data=pd.read_csv(\"tmdb_5000_movies.csv\")\n",
    "features_to_drop=[\"budget\",\"homepage\",\"popularity\",\"release_date\",\"revenue\",\"runtime\",\"vote_average\",\"vote_count\",\"id\"]\n",
    "df=data.drop(columns=features_to_drop)\n",
    "preprocess(df)\n",
    "TF_object=TfidfVectorizer()   # -- reducing the features by using the max_features \n",
    "                              # -- function also reduces the accuracy as we are reducing the\n",
    "                              # -- vocabulary size\n",
    "\n",
    "vectorizer=TF_object.fit_transform(df[\"information\"])\n",
    "tf_idf_vector=(vectorizer.toarray())\n",
    "vector_map=[(i,tf_idf_vector[i]) for i in range(len(tf_idf_vector))]"
   ]
  },
  {
   "cell_type": "markdown",
   "metadata": {},
   "source": [
    "User Input "
   ]
  },
  {
   "cell_type": "code",
   "execution_count": 9,
   "metadata": {},
   "outputs": [
    {
     "name": "stdout",
     "output_type": "stream",
     "text": [
      "Gravity\n",
      "2001: A Space Odyssey\n",
      "Mission to Mars\n",
      "Avatar\n",
      "You Only Live Twice\n"
     ]
    }
   ],
   "source": [
    "input=\"Moonraker\"\n",
    "recommend_movie(input)"
   ]
  },
  {
   "cell_type": "markdown",
   "metadata": {},
   "source": [
    "SCORES PLOT"
   ]
  },
  {
   "cell_type": "code",
   "execution_count": 276,
   "metadata": {},
   "outputs": [],
   "source": [
    "score_flat=np.array(scores).flatten()"
   ]
  },
  {
   "cell_type": "code",
   "execution_count": 292,
   "metadata": {},
   "outputs": [
    {
     "data": {
      "text/plain": [
       "[<matplotlib.lines.Line2D at 0x201a79124d0>]"
      ]
     },
     "execution_count": 292,
     "metadata": {},
     "output_type": "execute_result"
    },
    {
     "data": {
      "image/png": "[encoded data removed]",
      "text/plain": [
       "<Figure size 640x480 with 1 Axes>"
      ]
     },
     "metadata": {},
     "output_type": "display_data"
    }
   ],
   "source": [
    "plt.plot(score_flat)"
   ]
  },
  {
   "cell_type": "code",
   "execution_count": 280,
   "metadata": {},
   "outputs": [
    {
     "data": {
      "text/plain": [
       "'Double Take'"
      ]
     },
     "execution_count": 280,
     "metadata": {},
     "output_type": "execute_result"
    }
   ],
   "source": [
    "#this is the method to get the index of the values sorted on the basees of the values in descending order\n",
    "\n",
    "df[\"title\"][(-score_flat).argsort()[0]]"
   ]
  },
  {
   "cell_type": "code",
   "execution_count": 281,
   "metadata": {},
   "outputs": [
    {
     "data": {
      "text/plain": [
       "array([3707, 3686, 2656, ..., 1596, 1701, 1973], dtype=int64)"
      ]
     },
     "execution_count": 281,
     "metadata": {},
     "output_type": "execute_result"
    }
   ],
   "source": [
    "(score_flat).argsort()"
   ]
  },
  {
   "cell_type": "markdown",
   "metadata": {},
   "source": [
    "plotting the scores after sorting them"
   ]
  },
  {
   "cell_type": "code",
   "execution_count": 293,
   "metadata": {},
   "outputs": [
    {
     "data": {
      "text/plain": [
       "[<matplotlib.lines.Line2D at 0x201a76eb010>]"
      ]
     },
     "execution_count": 293,
     "metadata": {},
     "output_type": "execute_result"
    },
    {
     "data": {
      "image/png": "[encoded data removed]",
      "text/plain": [
       "<Figure size 640x480 with 1 Axes>"
      ]
     },
     "metadata": {},
     "output_type": "display_data"
    }
   ],
   "source": [
    "plt.plot(score_flat[(-score_flat).argsort()])"
   ]
  },
  {
   "cell_type": "code",
   "execution_count": null,
   "metadata": {},
   "outputs": [],
   "source": []
  }
 ],
 "metadata": {
  "kernelspec": {
   "display_name": "Python 3",
   "language": "python",
   "name": "python3"
  },
  "language_info": {
   "codemirror_mode": {
    "name": "ipython",
    "version": 3
   },
   "file_extension": ".py",
   "mimetype": "text/x-python",
   "name": "python",
   "nbconvert_exporter": "python",
   "pygments_lexer": "ipython3",
   "version": "3.11.4"
  }
 },
 "nbformat": 4,
 "nbformat_minor": 2
}
